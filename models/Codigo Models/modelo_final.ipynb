{
  "cells": [
    {
      "cell_type": "markdown",
      "metadata": {
        "id": "bSm3A7YDPhwD"
      },
      "source": [
        "# Modelo para predecir si se han abierto las ventanas en la siguiente hora"
      ]
    },
    {
      "cell_type": "code",
      "execution_count": 29,
      "metadata": {
        "id": "OIzYiHIVPhwE"
      },
      "outputs": [],
      "source": [
        "from tensorflow.keras.models import load_model\n",
        "\n",
        "model_temperatura = load_model('model_predict_temperaturas.keras')\n"
      ]
    },
    {
      "cell_type": "code",
      "execution_count": 30,
      "metadata": {
        "colab": {
          "base_uri": "https://localhost:8080/"
        },
        "id": "14EZJmd-PhwH",
        "outputId": "2242ed3a-b99c-4caa-9e9b-9bb936a8af99"
      },
      "outputs": [
        {
          "output_type": "stream",
          "name": "stdout",
          "text": [
            "\u001b[1m79/79\u001b[0m \u001b[32m━━━━━━━━━━━━━━━━━━━━\u001b[0m\u001b[37m\u001b[0m \u001b[1m1s\u001b[0m 5ms/step\n",
            "<class 'pandas.core.frame.DataFrame'>\n",
            "Index: 594 entries, 10 to 2494\n",
            "Data columns (total 22 columns):\n",
            " #   Column                                   Non-Null Count  Dtype  \n",
            "---  ------                                   --------------  -----  \n",
            " 0   sensor.sensor_temperatura_1_humidity     594 non-null    float64\n",
            " 1   sensor.sensor_temperatura_1_pressure     594 non-null    float64\n",
            " 2   sensor.sensor_temperatura_1_temperature  594 non-null    float64\n",
            " 3   sensor_puerta_1 Puerta                   594 non-null    float64\n",
            " 4   suma_ventanas_arriba                     594 non-null    float64\n",
            " 5   suma_ventanas_abajo                      594 non-null    float64\n",
            " 6   azimuth_mean                             594 non-null    float64\n",
            " 7   elevacion_sol                            594 non-null    float64\n",
            " 8   temperatura_exterior                     594 non-null    float64\n",
            " 9   porcentaje_nubes                         594 non-null    float64\n",
            " 10  part_of_day                              594 non-null    int64  \n",
            " 11  mes                                      594 non-null    int64  \n",
            " 12  season                                   594 non-null    int64  \n",
            " 13  hora_sin                                 594 non-null    float64\n",
            " 14  hora_cos                                 594 non-null    float64\n",
            " 15  dia_1                                    594 non-null    bool   \n",
            " 16  dia_2                                    594 non-null    bool   \n",
            " 17  dia_3                                    594 non-null    bool   \n",
            " 18  dia_4                                    594 non-null    bool   \n",
            " 19  dia_5                                    594 non-null    bool   \n",
            " 20  dia_6                                    594 non-null    bool   \n",
            " 21  temperatura_predicha                     594 non-null    float32\n",
            "dtypes: bool(6), float32(1), float64(12), int64(3)\n",
            "memory usage: 80.1 KB\n"
          ]
        }
      ],
      "source": [
        "import pandas as pd\n",
        "from datetime import time\n",
        "from sklearn.preprocessing import MinMaxScaler\n",
        "\n",
        "df = pd.read_csv('/content/entrenamiento_neuronal_calefaccion_gold.csv')\n",
        "\n",
        "scaler = MinMaxScaler()\n",
        "\n",
        "df[\"temperatura_predicha\"] = model_temperatura.predict(scaler.fit_transform(df[['sensor.sensor_temperatura_1_humidity',\n",
        "       'sensor.sensor_temperatura_1_pressure',\n",
        "       'sensor.sensor_temperatura_1_temperature', 'sensor_puerta_1 Puerta',\n",
        "       'suma_ventanas_arriba', 'suma_ventanas_abajo', 'azimuth_mean',\n",
        "       'elevacion_sol', 'temperatura_exterior', 'porcentaje_nubes',\n",
        "    'hora', 'part_of_day', 'mes', 'season',\n",
        "       'hora_sin', 'hora_cos', 'dia_1', 'dia_2', 'dia_3', 'dia_4', 'dia_5',\n",
        "       'dia_6']]))\n",
        "\n",
        "\n",
        "# Si la suma de suma_ventanas_arriba y suma_ventanas_abajo y puerta de la siguiente fila es mayor a 15 minutos\n",
        "df[\"ventanas_abiertas_siguiente_hora\"] = (\n",
        "    (df[\"suma_ventanas_arriba\"].shift(-1) + df[\"suma_ventanas_abajo\"].shift(-1) + df[\"sensor_puerta_1 Puerta\"].shift(-1)) > 1200\n",
        ")\n",
        "\n",
        "df['horas'] = pd.to_datetime(df['time']).dt.time\n",
        "df['dia_semana'] = pd.to_datetime(df['time']).dt.weekday  # 0 = lunes, 6 = domingo\n",
        "\n",
        "\n",
        "\n",
        "def calefaccion(row):\n",
        "    if 7 <= row['hora'] < 11 and row['temperatura_calefaccion_y'] < 22:\n",
        "        return True\n",
        "    elif 11 <= row['hora'] < 16 and row['temperatura_calefaccion_y'] < 21:\n",
        "        return True\n",
        "    elif 16 <= row['hora'] < 18 and row['temperatura_calefaccion_y'] < 21.6:\n",
        "        return True\n",
        "    elif 18 <= row['hora'] < 20.67 and row['temperatura_calefaccion_y'] < 22:\n",
        "        return True\n",
        "    else:\n",
        "        return False\n",
        "\n",
        "# Aplica la función para crear la columna 'calefaccion_encendida'\n",
        "df['calefaccion_encendida'] = df.apply(calefaccion, axis=1)\n",
        "\n",
        "# Filtramos cuando la calefacción está encendida\n",
        "df = df[df['calefaccion_encendida'] == True]\n",
        "\n",
        "\n",
        "\n",
        "# Filtra entre las 7:00 y las 21:00 y solo días entre semana (lunes a viernes)\n",
        "df = df[(df['horas'] >= time(7, 0)) &\n",
        "        (df['horas'] <= time(21, 0)) &\n",
        "        (df['dia_semana'] < 5)]  # 0-4 para lunes a viernes\n",
        "\n",
        "# Hacemos drop de hora despues porque se usa en la prediccion de la temperatura\n",
        "df.drop(columns=['hora'], inplace=True)\n",
        "\n",
        "# Muestra el resultado\n",
        "df.drop(columns=['horas','dia_semana'], inplace=True)\n",
        "\n",
        "X_df = df.drop(columns=[\"time\",\"ventanas_abiertas_siguiente_hora\", \"temperatura_calefaccion_y\",\"calefaccion_encendida\"])\n",
        "y_df = df[\"ventanas_abiertas_siguiente_hora\"]\n",
        "\n",
        "X_df.info()"
      ]
    },
    {
      "cell_type": "code",
      "execution_count": 31,
      "metadata": {
        "colab": {
          "base_uri": "https://localhost:8080/"
        },
        "id": "o4Hbj7hEPhwK",
        "outputId": "68bc719d-1b6b-4852-b713-5671f0ed2273"
      },
      "outputs": [
        {
          "output_type": "stream",
          "name": "stdout",
          "text": [
            "\n",
            "🔧 Entrenando red con: capas=[32], activation=relu, optimizer=adam, lr=0.001\n",
            "\u001b[1m3/3\u001b[0m \u001b[32m━━━━━━━━━━━━━━━━━━━━\u001b[0m\u001b[37m\u001b[0m \u001b[1m0s\u001b[0m 25ms/step\n",
            "\n",
            "📊 Resultados:\n",
            "[{'layers': '[32]', 'activation': 'relu', 'optimizer': 'adam', 'lr': 0.001, 'accuracy': 0.9666666666666667, 'precision': 0.9743589743589743, 'recall': 0.95, 'f1_score': 0.9620253164556962, 'mae': np.float32(0.03160816)}]\n",
            "\n",
            "📈 Primeras filas del historial:\n",
            "        loss       mae   val_loss   val_mae\n",
            "0  62.517883  0.493976  38.826946  0.561798\n",
            "1  20.264755  0.437773   5.337205  0.161159\n",
            "2   3.282177  0.087796   3.450922  0.033708\n",
            "3   2.071715  0.031327   0.900997  0.022472\n",
            "4   1.838531  0.028819   0.859236  0.011236\n"
          ]
        }
      ],
      "source": [
        "import tensorflow as tf\n",
        "from tensorflow.keras import layers, models, optimizers\n",
        "from sklearn.model_selection import train_test_split\n",
        "from sklearn.metrics import accuracy_score, precision_score, recall_score, f1_score\n",
        "from sklearn.datasets import make_classification\n",
        "import pandas as pd\n",
        "import numpy as np\n",
        "\n",
        "# División de datos\n",
        "X_train, X_temp, y_train, y_temp = train_test_split(X_df, y_df, test_size=0.3, random_state=42)\n",
        "X_val, X_test, y_val, y_test = train_test_split(X_temp, y_temp, test_size=0.5, random_state=42)\n",
        "\n",
        "# Configuración del modelo\n",
        "hidden_layers_config = [32]\n",
        "activation = 'relu'\n",
        "opt_name = 'adam'\n",
        "lr = 0.001\n",
        "\n",
        "print(f\"\\n🔧 Entrenando red con: capas={hidden_layers_config}, activation={activation}, optimizer={opt_name}, lr={lr}\")\n",
        "\n",
        "# Construcción del modelo\n",
        "model = models.Sequential()\n",
        "model.add(layers.Input(shape=(X_df.shape[1],)))\n",
        "for units in hidden_layers_config:\n",
        "    model.add(layers.Dense(units, activation=activation))\n",
        "model.add(layers.Dense(1, activation='sigmoid'))\n",
        "\n",
        "# Compilación\n",
        "opt = optimizers.Adam(learning_rate=lr)\n",
        "model.compile(optimizer=opt, loss='binary_crossentropy', metrics=['mae'])\n",
        "\n",
        "# Entrenamiento\n",
        "history = model.fit(X_train, y_train, epochs=100, batch_size=32, verbose=0, validation_data=(X_val, y_val))\n",
        "\n",
        "# Evaluación\n",
        "y_pred_probs = model.predict(X_test).ravel()\n",
        "y_pred = (y_pred_probs > 0.5).astype(int)\n",
        "\n",
        "acc = accuracy_score(y_test, y_pred)\n",
        "prec = precision_score(y_test, y_pred)\n",
        "rec = recall_score(y_test, y_pred)\n",
        "mae = np.mean(np.abs(y_test - y_pred_probs))\n",
        "\n",
        "results = []\n",
        "results.append({\n",
        "    'layers': str(hidden_layers_config),\n",
        "    'activation': activation,\n",
        "    'optimizer': opt_name,\n",
        "    'lr': lr,\n",
        "    'accuracy': acc,\n",
        "    'precision': prec,\n",
        "    'recall': rec,\n",
        "    'mae': mae\n",
        "})\n",
        "\n",
        "print(\"\\n📊 Resultados:\")\n",
        "print(results)\n",
        "\n",
        "# Historial de entrenamiento\n",
        "history_df = pd.DataFrame(history.history)\n",
        "print(\"\\n📈 Primeras filas del historial:\")\n",
        "print(history_df.head())"
      ]
    },
    {
      "cell_type": "code",
      "source": [
        "import matplotlib.pyplot as plt\n",
        "import pandas as pd\n",
        "import numpy as np\n",
        "\n",
        "# Convertir el historial a DataFrame\n",
        "history_df = pd.DataFrame(history.history)\n",
        "\n",
        "# Graficar la pérdida y el MAE\n",
        "plt.figure(figsize=(14, 5))\n",
        "\n",
        "# Gráfica de pérdida\n",
        "plt.subplot(1, 2, 1)\n",
        "plt.plot(history_df['loss'], label='Loss (train)')\n",
        "plt.plot(history_df['val_loss'], label='Val Loss (test)')\n",
        "plt.title('Evolución de la pérdida')\n",
        "plt.xlabel('Épocas')\n",
        "plt.ylabel('Loss')\n",
        "plt.legend()\n",
        "\n",
        "# Escala Y: 10, 20, 30, ...\n",
        "loss_max = max(history_df[['loss', 'val_loss']].max())\n",
        "plt.yticks(np.arange(0, loss_max + 20, 10))\n",
        "\n",
        "# Gráfica de MAE\n",
        "plt.subplot(1, 2, 2)\n",
        "plt.plot(history_df['mae'], label='MAE (train)')\n",
        "plt.plot(history_df['val_mae'], label='Val MAE (test)')\n",
        "plt.title('Error absoluto medio (MAE)')\n",
        "plt.xlabel('Épocas')\n",
        "plt.ylabel('MAE')\n",
        "plt.legend()\n",
        "\n",
        "# Escala Y: 1, 2, 3, ...\n",
        "mae_max = max(history_df[['mae', 'val_mae']].max())\n",
        "plt.yticks(np.arange(0, mae_max + 2, 1))  # +2 por si sube justo al siguiente entero\n",
        "\n",
        "plt.tight_layout()\n",
        "plt.show()"
      ],
      "metadata": {
        "colab": {
          "base_uri": "https://localhost:8080/",
          "height": 436
        },
        "id": "wL0Ab0315iqa",
        "outputId": "31de46f0-9c5b-4512-9f2f-5527bac1d8ad"
      },
      "execution_count": 32,
      "outputs": [
        {
          "output_type": "display_data",
          "data": {
            "text/plain": [
              "<Figure size 1400x500 with 2 Axes>"
            ],
            "image/png": "[encoded data removed]"
          },
          "metadata": {}
        }
      ]
    },
    {
      "cell_type": "code",
      "source": [
        "y_pred = model.predict(X_test).flatten()\n",
        "\n",
        "# Crear una copia del DataFrame original con las filas correspondientes a X_test\n",
        "df_test = df.loc[X_test.index].copy()\n",
        "\n",
        "# Añadir columna con las predicciones\n",
        "df_test[\"predic se abrira\"] = y_pred > 0.5\n",
        "\n",
        "output_path = \"predicciones_se_abrira.csv\"\n",
        "df_test.to_csv(output_path, index=False)\n",
        "output_path\n",
        "\n",
        "model.save(\"model_predicciones_se_abrira.keras\")"
      ],
      "metadata": {
        "colab": {
          "base_uri": "https://localhost:8080/"
        },
        "id": "4-08hVYdVpXd",
        "outputId": "6e6078c1-cd3f-464f-c605-701f6598dd8c"
      },
      "execution_count": 33,
      "outputs": [
        {
          "output_type": "stream",
          "name": "stdout",
          "text": [
            "\u001b[1m3/3\u001b[0m \u001b[32m━━━━━━━━━━━━━━━━━━━━\u001b[0m\u001b[37m\u001b[0m \u001b[1m0s\u001b[0m 11ms/step\n"
          ]
        }
      ]
    },
    {
      "cell_type": "code",
      "execution_count": 19,
      "metadata": {
        "colab": {
          "base_uri": "https://localhost:8080/"
        },
        "id": "tiPJTjucPhwI",
        "outputId": "f29911ad-7955-4741-a331-f625f820cbaa"
      },
      "outputs": [
        {
          "output_type": "stream",
          "name": "stdout",
          "text": [
            "\n",
            "🔧 Probando modelo 1/18: capas=[32], activation=relu, optimizer=adam, lr=0.001\n",
            "\u001b[1m3/3\u001b[0m \u001b[32m━━━━━━━━━━━━━━━━━━━━\u001b[0m\u001b[37m\u001b[0m \u001b[1m0s\u001b[0m 23ms/step\n",
            "\n",
            "🔧 Probando modelo 2/18: capas=[32], activation=relu, optimizer=sgd, lr=0.01\n",
            "\u001b[1m3/3\u001b[0m \u001b[32m━━━━━━━━━━━━━━━━━━━━\u001b[0m\u001b[37m\u001b[0m \u001b[1m0s\u001b[0m 25ms/step\n",
            "\n",
            "🔧 Probando modelo 3/18: capas=[32], activation=relu, optimizer=rmsprop, lr=0.0005\n",
            "\u001b[1m3/3\u001b[0m \u001b[32m━━━━━━━━━━━━━━━━━━━━\u001b[0m\u001b[37m\u001b[0m \u001b[1m0s\u001b[0m 27ms/step\n",
            "\n",
            "🔧 Probando modelo 4/18: capas=[32], activation=tanh, optimizer=adam, lr=0.001\n",
            "\u001b[1m3/3\u001b[0m \u001b[32m━━━━━━━━━━━━━━━━━━━━\u001b[0m\u001b[37m\u001b[0m \u001b[1m0s\u001b[0m 25ms/step\n",
            "\n",
            "🔧 Probando modelo 5/18: capas=[32], activation=tanh, optimizer=sgd, lr=0.01\n",
            "\u001b[1m3/3\u001b[0m \u001b[32m━━━━━━━━━━━━━━━━━━━━\u001b[0m\u001b[37m\u001b[0m \u001b[1m0s\u001b[0m 24ms/step\n",
            "\n",
            "🔧 Probando modelo 6/18: capas=[32], activation=tanh, optimizer=rmsprop, lr=0.0005\n",
            "\u001b[1m3/3\u001b[0m \u001b[32m━━━━━━━━━━━━━━━━━━━━\u001b[0m\u001b[37m\u001b[0m \u001b[1m0s\u001b[0m 23ms/step\n",
            "\n",
            "🔧 Probando modelo 7/18: capas=[64, 32], activation=relu, optimizer=adam, lr=0.001\n",
            "\u001b[1m3/3\u001b[0m \u001b[32m━━━━━━━━━━━━━━━━━━━━\u001b[0m\u001b[37m\u001b[0m \u001b[1m0s\u001b[0m 27ms/step\n",
            "\n",
            "🔧 Probando modelo 8/18: capas=[64, 32], activation=relu, optimizer=sgd, lr=0.01\n",
            "\u001b[1m3/3\u001b[0m \u001b[32m━━━━━━━━━━━━━━━━━━━━\u001b[0m\u001b[37m\u001b[0m \u001b[1m0s\u001b[0m 27ms/step\n",
            "\n",
            "🔧 Probando modelo 9/18: capas=[64, 32], activation=relu, optimizer=rmsprop, lr=0.0005\n",
            "\u001b[1m3/3\u001b[0m \u001b[32m━━━━━━━━━━━━━━━━━━━━\u001b[0m\u001b[37m\u001b[0m \u001b[1m0s\u001b[0m 27ms/step\n",
            "\n",
            "🔧 Probando modelo 10/18: capas=[64, 32], activation=tanh, optimizer=adam, lr=0.001\n",
            "\u001b[1m3/3\u001b[0m \u001b[32m━━━━━━━━━━━━━━━━━━━━\u001b[0m\u001b[37m\u001b[0m \u001b[1m0s\u001b[0m 29ms/step\n",
            "\n",
            "🔧 Probando modelo 11/18: capas=[64, 32], activation=tanh, optimizer=sgd, lr=0.01\n",
            "\u001b[1m3/3\u001b[0m \u001b[32m━━━━━━━━━━━━━━━━━━━━\u001b[0m\u001b[37m\u001b[0m \u001b[1m0s\u001b[0m 31ms/step\n",
            "\n",
            "🔧 Probando modelo 12/18: capas=[64, 32], activation=tanh, optimizer=rmsprop, lr=0.0005\n",
            "\u001b[1m3/3\u001b[0m \u001b[32m━━━━━━━━━━━━━━━━━━━━\u001b[0m\u001b[37m\u001b[0m \u001b[1m0s\u001b[0m 28ms/step\n",
            "\n",
            "🔧 Probando modelo 13/18: capas=[128, 64, 32], activation=relu, optimizer=adam, lr=0.001\n",
            "\u001b[1m3/3\u001b[0m \u001b[32m━━━━━━━━━━━━━━━━━━━━\u001b[0m\u001b[37m\u001b[0m \u001b[1m0s\u001b[0m 33ms/step\n",
            "\n",
            "🔧 Probando modelo 14/18: capas=[128, 64, 32], activation=relu, optimizer=sgd, lr=0.01\n",
            "\u001b[1m3/3\u001b[0m \u001b[32m━━━━━━━━━━━━━━━━━━━━\u001b[0m\u001b[37m\u001b[0m \u001b[1m0s\u001b[0m 33ms/step\n",
            "\n",
            "🔧 Probando modelo 15/18: capas=[128, 64, 32], activation=relu, optimizer=rmsprop, lr=0.0005\n"
          ]
        },
        {
          "output_type": "stream",
          "name": "stderr",
          "text": [
            "/usr/local/lib/python3.11/dist-packages/sklearn/metrics/_classification.py:1565: UndefinedMetricWarning: Precision is ill-defined and being set to 0.0 due to no predicted samples. Use `zero_division` parameter to control this behavior.\n",
            "  _warn_prf(average, modifier, f\"{metric.capitalize()} is\", len(result))\n"
          ]
        },
        {
          "output_type": "stream",
          "name": "stdout",
          "text": [
            "\u001b[1m3/3\u001b[0m \u001b[32m━━━━━━━━━━━━━━━━━━━━\u001b[0m\u001b[37m\u001b[0m \u001b[1m0s\u001b[0m 36ms/step\n",
            "\n",
            "🔧 Probando modelo 16/18: capas=[128, 64, 32], activation=tanh, optimizer=adam, lr=0.001\n",
            "\u001b[1m3/3\u001b[0m \u001b[32m━━━━━━━━━━━━━━━━━━━━\u001b[0m\u001b[37m\u001b[0m \u001b[1m0s\u001b[0m 39ms/step\n",
            "\n",
            "🔧 Probando modelo 17/18: capas=[128, 64, 32], activation=tanh, optimizer=sgd, lr=0.01\n",
            "\u001b[1m3/3\u001b[0m \u001b[32m━━━━━━━━━━━━━━━━━━━━\u001b[0m\u001b[37m\u001b[0m \u001b[1m0s\u001b[0m 33ms/step\n",
            "\n",
            "🔧 Probando modelo 18/18: capas=[128, 64, 32], activation=tanh, optimizer=rmsprop, lr=0.0005\n",
            "\u001b[1m3/3\u001b[0m \u001b[32m━━━━━━━━━━━━━━━━━━━━\u001b[0m\u001b[37m\u001b[0m \u001b[1m0s\u001b[0m 34ms/step\n",
            "\n",
            "Top resultados:\n",
            "       layers activation optimizer     lr  accuracy  precision  recall  \n",
            "     [64, 32]       tanh       sgd 0.0100  1.000000   1.000000   1.000  \n",
            "         [32]       tanh   rmsprop 0.0005  0.988889   0.975610   1.000  \n",
            "[128, 64, 32]       tanh      adam 0.0010  0.988889   0.975610   1.000  \n",
            "[128, 64, 32]       tanh       sgd 0.0100  0.988889   0.975610   1.000  \n",
            "     [64, 32]       tanh   rmsprop 0.0005  0.988889   0.975610   1.000  \n",
            "[128, 64, 32]       relu      adam 0.0010  0.977778   0.952381   1.000  \n",
            "[128, 64, 32]       tanh   rmsprop 0.0005  0.977778   0.975000   0.975  \n",
            "         [32]       relu      adam 0.0010  0.977778   0.975000   0.975  \n",
            "     [64, 32]       tanh      adam 0.0010  0.977778   0.975000   0.975  \n",
            "         [32]       tanh       sgd 0.0100  0.977778   0.975000   0.975  \n"
          ]
        }
      ],
      "source": [
        "import tensorflow as tf\n",
        "from tensorflow.keras import layers, models, optimizers\n",
        "from sklearn.model_selection import train_test_split\n",
        "from sklearn.metrics import accuracy_score, precision_score, recall_score, f1_score\n",
        "from sklearn.datasets import make_classification\n",
        "import pandas as pd\n",
        "import numpy as np\n",
        "import itertools\n",
        "\n",
        "# Dividir en train, val, test\n",
        "X_train, X_temp, y_train, y_temp = train_test_split(X_df, y_df, test_size=0.3, random_state=42)\n",
        "X_val, X_test, y_val, y_test = train_test_split(X_temp, y_temp, test_size=0.5, random_state=42)\n",
        "\n",
        "# Parámetros para probar\n",
        "hidden_layers_list = [[32], [64, 32], [128, 64, 32]]\n",
        "activations = ['relu', 'tanh']\n",
        "optimizers_list = [\n",
        "    ('adam', 0.001),\n",
        "    ('sgd', 0.01),\n",
        "    ('rmsprop', 0.0005),\n",
        "]\n",
        "\n",
        "results = []\n",
        "\n",
        "# Generar combinaciones\n",
        "combinations = list(itertools.product(hidden_layers_list, activations, optimizers_list))\n",
        "\n",
        "for i, (hidden_layers_config, activation, (opt_name, lr)) in enumerate(combinations, 1):\n",
        "    print(f\"\\n🔧 Probando modelo {i}/{len(combinations)}: capas={hidden_layers_config}, activation={activation}, optimizer={opt_name}, lr={lr}\")\n",
        "\n",
        "    model = models.Sequential()\n",
        "    model.add(layers.Input(shape=(X_df.shape[1],)))\n",
        "    for units in hidden_layers_config:\n",
        "        model.add(layers.Dense(units, activation=activation))\n",
        "    model.add(layers.Dense(1, activation='sigmoid'))\n",
        "\n",
        "    # Elegir optimizador\n",
        "    if opt_name == 'adam':\n",
        "        opt = optimizers.Adam(learning_rate=lr)\n",
        "    elif opt_name == 'sgd':\n",
        "        opt = optimizers.SGD(learning_rate=lr)\n",
        "    elif opt_name == 'rmsprop':\n",
        "        opt = optimizers.RMSprop(learning_rate=lr)\n",
        "\n",
        "    model.compile(optimizer=opt, loss='binary_crossentropy', metrics=['accuracy'])\n",
        "\n",
        "    model.fit(X_train, y_train, epochs=100, batch_size=32, verbose=0, validation_data=(X_val, y_val))\n",
        "\n",
        "    # Evaluación\n",
        "    y_pred_probs = model.predict(X_test).ravel()\n",
        "    y_pred = (y_pred_probs > 0.5).astype(int)\n",
        "\n",
        "    acc = accuracy_score(y_test, y_pred)\n",
        "    prec = precision_score(y_test, y_pred)\n",
        "    rec = recall_score(y_test, y_pred)\n",
        "\n",
        "    results.append({\n",
        "        'layers': str(hidden_layers_config),\n",
        "        'activation': activation,\n",
        "        'optimizer': opt_name,\n",
        "        'lr': lr,\n",
        "        'accuracy': acc,\n",
        "        'precision': prec,\n",
        "        'recall': rec,\n",
        "    })\n",
        "\n",
        "# Mostrar resultados ordenados\n",
        "df_resultados = pd.DataFrame(results)\n",
        "print(\"\\nTop resultados:\")\n",
        "print(df_resultados.head(10).to_string(index=False))"
      ]
    }
  ],
  "metadata": {
    "kernelspec": {
      "display_name": "Python 3 (ipykernel)",
      "language": "python",
      "name": "python3"
    },
    "language_info": {
      "codemirror_mode": {
        "name": "ipython",
        "version": 3
      },
      "file_extension": ".py",
      "mimetype": "text/x-python",
      "name": "python",
      "nbconvert_exporter": "python",
      "pygments_lexer": "ipython3",
      "version": "3.9.20"
    },
    "colab": {
      "provenance": []
    }
  },
  "nbformat": 4,
  "nbformat_minor": 0
}
